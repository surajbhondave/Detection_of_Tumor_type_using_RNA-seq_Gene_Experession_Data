{
 "cells": [
  {
   "cell_type": "code",
   "execution_count": 2,
   "metadata": {
    "colab": {
     "base_uri": "https://localhost:8080/"
    },
    "id": "c35lu6F1Z8_Z",
    "outputId": "277b88cf-f6be-4bf4-9947-04cb000cf1f8"
   },
   "outputs": [
    {
     "name": "stdout",
     "output_type": "stream",
     "text": [
      "Accuracy is  0.8208955223880597\n"
     ]
    },
    {
     "data": {
      "text/plain": [
       "array([[73,  2,  1,  7,  2],\n",
       "       [ 1, 13,  0,  3,  0],\n",
       "       [ 1,  0, 33,  0,  0],\n",
       "       [10,  0,  0, 22,  1],\n",
       "       [ 5,  0,  0,  3, 24]])"
      ]
     },
     "execution_count": 2,
     "metadata": {
      "tags": []
     },
     "output_type": "execute_result"
    }
   ],
   "source": [
    "from sklearn import preprocessing\n",
    "from sklearn import datasets \n",
    "from sklearn.metrics import confusion_matrix \n",
    "from sklearn.model_selection import train_test_split \n",
    "import numpy as np\n",
    "import time \n",
    "start_time=time.time()\n",
    "X=np.loadtxt('data.csv', delimiter=',', converters=None, skiprows=1, usecols=range(1,30), unpack=False, ndmin=0, )\n",
    "y=np.genfromtxt('labels.csv',dtype='str',skip_header=1,usecols=[1],delimiter=',')\n",
    "#y=np.loadtxt('dataset/labels.csv', delimiter=',', converters=None, skiprows=1, usecols=[1], unpack=False, ndmin=0, ) \n",
    "# X -> features, y -> label \n",
    "\n",
    "# dividing X, y into train and test data \n",
    "X_train, X_test, y_train, y_test = train_test_split(X, y, random_state = 0)  \n",
    "#print type(X_train)\n",
    "# training a linear SVM classifier \n",
    "from sklearn.svm import SVC \n",
    "svm_model_linear = SVC(kernel = 'poly', C = 1).fit(X_train, y_train) \n",
    "svm_predictions = svm_model_linear.predict(X_test) \n",
    "  \n",
    "# model accuracy for X_test   \n",
    "accuracy = svm_model_linear.score(X_test, y_test) \n",
    "print(\"Accuracy is \",accuracy)\n",
    "# creating a confusion matrix \n",
    "cm = confusion_matrix(y_test, svm_predictions)\n",
    "cm"
   ]
  },
  {
   "cell_type": "code",
   "execution_count": null,
   "metadata": {
    "id": "UqDGQrSoZ8_e"
   },
   "outputs": [],
   "source": []
  }
 ],
 "metadata": {
  "colab": {
   "name": "SVM.ipynb",
   "provenance": []
  },
  "kernelspec": {
   "display_name": "Python 3",
   "language": "python",
   "name": "python3"
  },
  "language_info": {
   "codemirror_mode": {
    "name": "ipython",
    "version": 3
   },
   "file_extension": ".py",
   "mimetype": "text/x-python",
   "name": "python",
   "nbconvert_exporter": "python",
   "pygments_lexer": "ipython3",
   "version": "3.8.3"
  }
 },
 "nbformat": 4,
 "nbformat_minor": 1
}
