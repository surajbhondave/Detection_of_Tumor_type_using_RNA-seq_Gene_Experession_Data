{
  "nbformat": 4,
  "nbformat_minor": 0,
  "metadata": {
    "kernelspec": {
      "display_name": "Python 3",
      "language": "python",
      "name": "python3"
    },
    "language_info": {
      "codemirror_mode": {
        "name": "ipython",
        "version": 3
      },
      "file_extension": ".py",
      "mimetype": "text/x-python",
      "name": "python",
      "nbconvert_exporter": "python",
      "pygments_lexer": "ipython3",
      "version": "3.8.3"
    },
    "colab": {
      "name": "GA_LR.ipynb",
      "provenance": []
    }
  },
  "cells": [
    {
      "cell_type": "code",
      "metadata": {
        "colab": {
          "base_uri": "https://localhost:8080/"
        },
        "id": "zWr1WhiOh5h_",
        "outputId": "99059482-297d-4668-8d9c-40a5aaf7fe5c"
      },
      "source": [
        "'''READ ME\n",
        "parameters used are:\n",
        "number of features : first thirty\n",
        "test_size=0.30,\n",
        "'''\n",
        "import numpy as np\n",
        "import pandas as pd\n",
        "import random\n",
        "import matplotlib.pyplot\n",
        "from sklearn.model_selection import train_test_split\n",
        "from sklearn.linear_model import LogisticRegression\n",
        "from sklearn.metrics import accuracy_score\n",
        "from sklearn.metrics import confusion_matrix \n",
        "\n",
        "#splitting the model into training and testing set\n",
        "nfeat=30\n",
        "X=np.loadtxt('/content/drive/MyDrive/CS725/data.csv', delimiter=',', converters=None, skiprows=1, usecols=range(1,nfeat), unpack=False, ndmin=0, )\n",
        "from sklearn import preprocessing\n",
        "#print(X)\n",
        "scaler = preprocessing.StandardScaler().fit(X)\n",
        "X= scaler.transform(X)\n",
        "y=np.genfromtxt('/content/drive/MyDrive/CS725/labels.csv',dtype='str',skip_header=1,usecols=[1],delimiter=',')\n",
        "df = pd.DataFrame(X,columns=np.arange(1,nfeat))\n",
        "label=np.array(y)\n",
        "X_train, X_test, y_train, y_test = train_test_split(df, \n",
        "                                                    label, test_size=0.30, \n",
        "                                                    random_state=101)\n",
        "#training a logistics regression model\n",
        "logmodel = LogisticRegression()\n",
        "logmodel.fit(X_train,y_train)\n",
        "predictions = logmodel.predict(X_test)\n",
        "print(\"Accuracy = \"+ str(accuracy_score(y_test,predictions)))\n",
        "#defining various steps required for the genetic algorithm\n",
        "def initilization_of_population(size,n_feat):\n",
        "    population = []\n",
        "    for i in range(size):\n",
        "        chromosome = np.ones(n_feat,dtype=np.bool)\n",
        "        #print chromosome\n",
        "        #chromosome[:int(0.3*n_feat)]=False\n",
        "        chromosome[:int(0.95*nfeat)]=False\n",
        "        #print chromosome,\"then\"\n",
        "        np.random.shuffle(chromosome)\n",
        "        population.append(chromosome)\n",
        "    \n",
        "    return population\n",
        "\n",
        "def fitness_score(population):\n",
        "    scores = []\n",
        "    for chromosome in population:\n",
        "        if sum(chromosome)==0:\n",
        "            chromosome[0]=True\n",
        "        #print chromosome,sum(chromosome)\n",
        "        logmodel.fit(X_train.iloc[:,chromosome],y_train)\n",
        "        predictions = logmodel.predict(X_test.iloc[:,chromosome])\n",
        "        scores.append(accuracy_score(y_test,predictions))\n",
        "    scores, population = np.array(scores), np.array(population) \n",
        "    inds = np.argsort(scores)\n",
        "    #print scores,\"here\"\n",
        "    return list(scores[inds][::-1]), list(population[inds,:][::-1])\n",
        "\n",
        "def selection(pop_after_fit,n_parents):\n",
        "    population_nextgen = []\n",
        "    for i in range(n_parents):\n",
        "        \n",
        "        population_nextgen.append(pop_after_fit[i])\n",
        "    return population_nextgen\n",
        "\n",
        "def crossover(pop_after_sel):\n",
        "    population_nextgen=pop_after_sel\n",
        "    for i in range(len(pop_after_sel)):\n",
        "        child=pop_after_sel[i]\n",
        "        child[3:7]=pop_after_sel[(i+1)%len(pop_after_sel)][3:7]\n",
        "        population_nextgen.append(child)\n",
        "    return population_nextgen\n",
        "\n",
        "def mutation(pop_after_cross,mutation_rate):\n",
        "    population_nextgen = []\n",
        "    for i in range(0,len(pop_after_cross)):\n",
        "        chromosome = pop_after_cross[i]\n",
        "        for j in range(len(chromosome)):\n",
        "            if random.random() < mutation_rate:\n",
        "                chromosome[j]= not chromosome[j]\n",
        "        population_nextgen.append(chromosome)\n",
        "    #print(population_nextgen)\n",
        "    return population_nextgen\n",
        "\n",
        "def generations(size,n_feat,n_parents,mutation_rate,n_gen,X_train,\n",
        "                                   X_test, y_train, y_test):\n",
        "    best_chromo= []\n",
        "    best_score= []\n",
        "    population_nextgen=initilization_of_population(size,n_feat)\n",
        "    for i in range(n_gen):\n",
        "        scores, pop_after_fit = fitness_score(population_nextgen)\n",
        "        #print(scores[:2])\n",
        "        pop_after_sel = selection(pop_after_fit,n_parents)\n",
        "        pop_after_cross = crossover(pop_after_sel)\n",
        "        population_nextgen = mutation(pop_after_cross,mutation_rate)\n",
        "        best_chromo.append(pop_after_fit[0])\n",
        "        best_score.append(scores[0])\n",
        "        #print sum(pop_after_fit[0])\n",
        "    return best_chromo,best_score\n",
        "chromo,score=generations(size=200,n_feat=nfeat-1,n_parents=100,mutation_rate=0.010,n_gen=38,X_train=X_train,X_test=X_test,y_train=y_train,y_test=y_test)\n",
        "logmodel.fit(X_train.iloc[:,chromo[-1]],y_train)\n",
        "predictions = logmodel.predict(X_test.iloc[:,chromo[-1]])\n",
        "print(\"Accuracy score after genetic algorithm is= \"+str(accuracy_score(y_test,predictions)))\n",
        "cm = confusion_matrix(y_test, predictions)\n",
        "cm"
      ],
      "execution_count": 13,
      "outputs": [
        {
          "output_type": "stream",
          "text": [
            "Accuracy = 0.8506224066390041\n",
            "Accuracy score after genetic algorithm is= 0.8672199170124482\n"
          ],
          "name": "stdout"
        },
        {
          "output_type": "execute_result",
          "data": {
            "text/plain": [
              "array([[69,  4,  0,  9,  0],\n",
              "       [ 1, 23,  0,  0,  0],\n",
              "       [ 0,  0, 49,  0,  0],\n",
              "       [13,  0,  0, 27,  1],\n",
              "       [ 4,  0,  0,  0, 41]])"
            ]
          },
          "metadata": {
            "tags": []
          },
          "execution_count": 13
        }
      ]
    },
    {
      "cell_type": "code",
      "metadata": {
        "colab": {
          "base_uri": "https://localhost:8080/"
        },
        "id": "OkjaDjhLioBg",
        "outputId": "490df2b1-769f-4265-cfee-9185d8a5cf36"
      },
      "source": [
        "from google.colab import drive\n",
        "drive.mount('/content/drive')"
      ],
      "execution_count": 1,
      "outputs": [
        {
          "output_type": "stream",
          "text": [
            "Mounted at /content/drive\n"
          ],
          "name": "stdout"
        }
      ]
    },
    {
      "cell_type": "code",
      "metadata": {
        "id": "UsSYnU5_ioxW"
      },
      "source": [
        ""
      ],
      "execution_count": 13,
      "outputs": []
    },
    {
      "cell_type": "code",
      "metadata": {
        "id": "BtyvQT2eHZdx"
      },
      "source": [
        ""
      ],
      "execution_count": null,
      "outputs": []
    }
  ]
}