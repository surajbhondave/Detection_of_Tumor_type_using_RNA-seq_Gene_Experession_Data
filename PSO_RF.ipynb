{
  "nbformat": 4,
  "nbformat_minor": 0,
  "metadata": {
    "kernelspec": {
      "display_name": "Python 3",
      "language": "python",
      "name": "python3"
    },
    "language_info": {
      "codemirror_mode": {
        "name": "ipython",
        "version": 3
      },
      "file_extension": ".py",
      "mimetype": "text/x-python",
      "name": "python",
      "nbconvert_exporter": "python",
      "pygments_lexer": "ipython3",
      "version": "3.8.3"
    },
    "colab": {
      "name": "PSO_RF.ipynb",
      "provenance": []
    }
  },
  "cells": [
    {
      "cell_type": "code",
      "metadata": {
        "colab": {
          "base_uri": "https://localhost:8080/",
          "height": 1000
        },
        "id": "QWPfDTwExvOV",
        "outputId": "87d9d852-381f-49c1-b8e5-5e856ed5f87f"
      },
      "source": [
        "import numpy as np\n",
        "import pandas as pd\n",
        "import pyswarms as ps\n",
        "from sklearn.metrics import mean_squared_error\n",
        "from sklearn import neighbors\n",
        "from sklearn.model_selection import KFold\n",
        "from sklearn.ensemble import RandomForestClassifier\n",
        "from sklearn.metrics import multilabel_confusion_matrix, precision_recall_fscore_support, recall_score, precision_score, f1_score, confusion_matrix, accuracy_score\n",
        "from sklearn import preprocessing\n",
        "import seaborn as sn\n",
        "import matplotlib.pyplot as plt\n",
        "\n",
        "np.random.seed(42)\n",
        "\n",
        "## Load data and labels ###\n",
        "\n",
        "label = pd.read_csv('/content/drive/MyDrive/CS725/labels.csv')\n",
        "data = pd.read_csv('/content/drive/MyDrive/CS725/data.csv')\n",
        "\n",
        "#y =  label.Class.values\n",
        "X = data.values[:,1:]\n",
        "\n",
        "#Encode the variable : \n",
        "\n",
        "encode = preprocessing.LabelEncoder()\n",
        "encode.fit(label.Class.unique())\n",
        "y = encode.transform(label.Class.values)\n",
        "\n",
        "\n",
        "### PSO function ###\n",
        "\n",
        "def pso_feature_selection(X,y):\n",
        "\n",
        "    ### Change this to NN here ####\n",
        "    classifier = RandomForestClassifier(n_estimators = 10, criterion = 'entropy', random_state = 42)\n",
        "    total_feat = X.shape[1]\n",
        "    \n",
        "    # Define objective function\n",
        "    def f_per_particle(m):\n",
        "\n",
        "        #total_features = total_feat\n",
        "        # Get the subset of the features from the binary mask\n",
        "        if np.count_nonzero(m) == 0:\n",
        "            X_subset = X\n",
        "        else:\n",
        "            X_subset = X[:,m==1]\n",
        "        # Perform classification and store performance in P\n",
        "        classifier.fit(X_subset, y)\n",
        "\n",
        "        # Compute for the objective function\n",
        "        P = (classifier.score(X_subset,y))\n",
        "        #j = (alpha * (1.0 - P)+ (1.0 - alpha) * (1 - (X_subset.shape[1] / total_features)))\n",
        "\n",
        "        return P\n",
        "\n",
        "\n",
        "    def f(x):\n",
        "        n_particles = x.shape[0]\n",
        "        j = [f_per_particle(x[i]) for i in range(n_particles)]\n",
        "        return np.array(j)\n",
        "\n",
        "\n",
        "    options = {'c1': 0.5, 'c2': 0.5, 'w':0.9, 'k': 30, 'p':2}\n",
        "\n",
        "    # Call instance of PSO\n",
        "    dimensions = total_feat # dimensions should be the number of features\n",
        "    #init = np.random.choice([0, 1], size=(10,dimensions), p=[(dimensions-50)/dimensions, 50/dimensions])\n",
        "    optimizer = ps.discrete.BinaryPSO(n_particles=30, dimensions=dimensions, options=options,init_pos=None)\n",
        "\n",
        "    # Perform optimization\n",
        "    cost, pos = optimizer.optimize(f,iters=10,verbose=True)\n",
        "\n",
        "    return pos\n",
        "\n",
        "\n",
        "## Cross validation ###\n",
        "\n",
        "KF = KFold(n_splits=5,shuffle=True)\n",
        "total_train_accuracy = 0\n",
        "total_test_accuracy = 0\n",
        "total_precision = 0\n",
        "total_recall = 0\n",
        "total_fscore = 0\n",
        "final_conf_mat =0\n",
        "\n",
        "for train_index, test_index in KF.split(X):\n",
        "    # Split train-test\n",
        "    x_train, x_test = X[train_index], X[test_index]\n",
        "    y_train, y_test = y[train_index], y[test_index]\n",
        "\n",
        "    #### Feature Selection\n",
        "\n",
        "    pos = pso_feature_selection(x_test,y_test)\n",
        "    print(np.count_nonzero(pos))\n",
        "\n",
        "    x1_train = np.array(x_train[:,pos==1]) \n",
        "    x1_test = np.array(x_test[:,pos==1]) \n",
        "\n",
        "    ### Classification model (ADD NN to be fit here)###\n",
        "\n",
        "    classifier = RandomForestClassifier(n_estimators = 10, criterion = 'entropy', random_state = 42)\n",
        "    classifier.fit(x1_train, y_train)\n",
        "\n",
        "    y_pred = classifier.predict(x1_test)\n",
        "\n",
        "    ##### Scoring #########\n",
        "\n",
        "    print (\"Checking on Train Set\")\n",
        "    print (\"\\nAccuracy on Training Set :\"+str(classifier.score(x1_train,y_train)))\n",
        "    total_train_accuracy += classifier.score(x1_train,y_train)\n",
        "\n",
        "    print (\"Checking on Test Set\")\n",
        "    print (\"\\nAccuracy on Testing Set :\"+str(accuracy_score(y_test,y_pred)))\n",
        "    total_test_accuracy += accuracy_score(y_test,y_pred)\n",
        "  \n",
        "    total_precision+= precision_score(y_test, y_pred,average='macro')\n",
        "    total_recall+= recall_score(y_test, y_pred,average='macro')\t\n",
        "    total_fscore+= f1_score(y_test, y_pred,average='macro')\t\n",
        "    print (\"\\nPrecision Score\")\n",
        "    print (precision_score(y_test, y_pred,average='macro'))\n",
        "    print (\"\\nRecall Score\")\n",
        "    print (recall_score(y_test, y_pred,average='macro'))\t\n",
        "    print (\"\\nF1 Score\")\n",
        "    print (f1_score(y_test, y_pred,average='macro'))\n",
        "\n",
        "    #Confusion Matrix\n",
        "    conf_mat=confusion_matrix(y_test, y_pred)\n",
        "    final_conf_mat+=conf_mat\n",
        "    print(\"Confusion matrix :\\n\")\n",
        "    print(conf_mat)\n",
        "    \n",
        "print(\"Mean train accuracy : %.2f\" % ((total_train_accuracy/5)*100))\n",
        "print(\"Mean test accuracy : %.2f\" % ((total_test_accuracy/5)*100))\n",
        "print(\"Mean precision : %.2f\" % ((total_precision/5)*100))\n",
        "print(\"Mean recall : %.2f\" % ((total_recall/5)*100))\n",
        "print(\"Mean fscore : %.2f\" % ((total_fscore/5)*100))\n",
        "\n",
        "print(\"Confusion matrix : \" )\n",
        "print(final_conf_mat)\n",
        "#plt.figure(figsize=(5,5))\n",
        "sn.heatmap(final_conf_mat, annot=True)\n",
        "plt.xlabel('Predicted')\n",
        "plt.ylabel('Truth')\n",
        "plt.show()"
      ],
      "execution_count": 3,
      "outputs": [
        {
          "output_type": "stream",
          "text": [
            "2021-01-06 05:39:13,838 - pyswarms.discrete.binary - INFO - Optimize for 10 iters with {'c1': 0.5, 'c2': 0.5, 'w': 0.9, 'k': 30, 'p': 2}\n",
            "pyswarms.discrete.binary: 100%|██████████|10/10, best_cost=0.994\n",
            "2021-01-06 05:40:27,352 - pyswarms.discrete.binary - INFO - Optimization finished | best cost: 0.9937888198757764, best pos: [0 1 0 ... 0 0 1]\n"
          ],
          "name": "stderr"
        },
        {
          "output_type": "stream",
          "text": [
            "11537\n",
            "Checking on Train Set\n",
            "\n",
            "Accuracy on Training Set :1.0\n",
            "Checking on Test Set\n",
            "\n",
            "Accuracy on Testing Set :0.9937888198757764\n",
            "\n",
            "Precision Score\n",
            "0.9933333333333334\n",
            "\n",
            "Recall Score\n",
            "0.993103448275862\n",
            "\n",
            "F1 Score\n",
            "0.9931013975617009\n",
            "Confusion matrix :\n",
            "\n",
            "[[61  0  0  0  0]\n",
            " [ 0 17  0  0  0]\n",
            " [ 0  0 25  0  0]\n",
            " [ 0  0  0 29  0]\n",
            " [ 0  0  0  1 28]]\n"
          ],
          "name": "stdout"
        },
        {
          "output_type": "stream",
          "text": [
            "2021-01-06 05:40:31,438 - pyswarms.discrete.binary - INFO - Optimize for 10 iters with {'c1': 0.5, 'c2': 0.5, 'w': 0.9, 'k': 30, 'p': 2}\n",
            "pyswarms.discrete.binary: 100%|██████████|10/10, best_cost=0.994\n",
            "2021-01-06 05:41:44,304 - pyswarms.discrete.binary - INFO - Optimization finished | best cost: 0.99375, best pos: [1 1 0 ... 1 1 1]\n"
          ],
          "name": "stderr"
        },
        {
          "output_type": "stream",
          "text": [
            "11877\n",
            "Checking on Train Set\n",
            "\n",
            "Accuracy on Training Set :1.0\n",
            "Checking on Test Set\n",
            "\n",
            "Accuracy on Testing Set :0.99375\n",
            "\n",
            "Precision Score\n",
            "0.9968253968253968\n",
            "\n",
            "Recall Score\n",
            "0.9942857142857143\n",
            "\n",
            "F1 Score\n",
            "0.9955014492753623\n",
            "Confusion matrix :\n",
            "\n",
            "[[62  0  0  0  0]\n",
            " [ 0 17  0  0  0]\n",
            " [ 1  0 34  0  0]\n",
            " [ 0  0  0 22  0]\n",
            " [ 0  0  0  0 24]]\n"
          ],
          "name": "stdout"
        },
        {
          "output_type": "stream",
          "text": [
            "2021-01-06 05:41:48,343 - pyswarms.discrete.binary - INFO - Optimize for 10 iters with {'c1': 0.5, 'c2': 0.5, 'w': 0.9, 'k': 30, 'p': 2}\n",
            "pyswarms.discrete.binary: 100%|██████████|10/10, best_cost=0.994\n",
            "2021-01-06 05:43:00,454 - pyswarms.discrete.binary - INFO - Optimization finished | best cost: 0.99375, best pos: [1 1 0 ... 0 1 0]\n"
          ],
          "name": "stderr"
        },
        {
          "output_type": "stream",
          "text": [
            "10425\n",
            "Checking on Train Set\n",
            "\n",
            "Accuracy on Training Set :1.0\n",
            "Checking on Test Set\n",
            "\n",
            "Accuracy on Testing Set :0.9875\n",
            "\n",
            "Precision Score\n",
            "0.9935483870967742\n",
            "\n",
            "Recall Score\n",
            "0.9866666666666667\n",
            "\n",
            "F1 Score\n",
            "0.9898247597512719\n",
            "Confusion matrix :\n",
            "\n",
            "[[60  0  0  0  0]\n",
            " [ 0 15  0  0  0]\n",
            " [ 0  0 25  0  0]\n",
            " [ 2  0  0 28  0]\n",
            " [ 0  0  0  0 30]]\n"
          ],
          "name": "stdout"
        },
        {
          "output_type": "stream",
          "text": [
            "2021-01-06 05:43:04,455 - pyswarms.discrete.binary - INFO - Optimize for 10 iters with {'c1': 0.5, 'c2': 0.5, 'w': 0.9, 'k': 30, 'p': 2}\n",
            "pyswarms.discrete.binary: 100%|██████████|10/10, best_cost=0.988\n",
            "2021-01-06 05:44:17,331 - pyswarms.discrete.binary - INFO - Optimization finished | best cost: 0.9875, best pos: [1 0 0 ... 0 1 0]\n"
          ],
          "name": "stderr"
        },
        {
          "output_type": "stream",
          "text": [
            "10292\n",
            "Checking on Train Set\n",
            "\n",
            "Accuracy on Training Set :1.0\n",
            "Checking on Test Set\n",
            "\n",
            "Accuracy on Testing Set :0.9875\n",
            "\n",
            "Precision Score\n",
            "0.9935483870967742\n",
            "\n",
            "Recall Score\n",
            "0.9848484848484848\n",
            "\n",
            "F1 Score\n",
            "0.9889932256077891\n",
            "Confusion matrix :\n",
            "\n",
            "[[60  0  0  0  0]\n",
            " [ 0 16  0  0  0]\n",
            " [ 0  0 29  0  0]\n",
            " [ 1  0  0 32  0]\n",
            " [ 1  0  0  0 21]]\n"
          ],
          "name": "stdout"
        },
        {
          "output_type": "stream",
          "text": [
            "2021-01-06 05:44:21,136 - pyswarms.discrete.binary - INFO - Optimize for 10 iters with {'c1': 0.5, 'c2': 0.5, 'w': 0.9, 'k': 30, 'p': 2}\n",
            "pyswarms.discrete.binary: 100%|██████████|10/10, best_cost=0.994\n",
            "2021-01-06 05:45:32,870 - pyswarms.discrete.binary - INFO - Optimization finished | best cost: 0.99375, best pos: [0 1 0 ... 1 1 0]\n"
          ],
          "name": "stderr"
        },
        {
          "output_type": "stream",
          "text": [
            "10289\n",
            "Checking on Train Set\n",
            "\n",
            "Accuracy on Training Set :1.0\n",
            "Checking on Test Set\n",
            "\n",
            "Accuracy on Testing Set :0.975\n",
            "\n",
            "Precision Score\n",
            "0.9757142857142856\n",
            "\n",
            "Recall Score\n",
            "0.9703703703703704\n",
            "\n",
            "F1 Score\n",
            "0.9714643874643875\n",
            "Confusion matrix :\n",
            "\n",
            "[[57  0  0  0  0]\n",
            " [ 0 13  0  0  0]\n",
            " [ 0  0 32  0  0]\n",
            " [ 3  1  0 23  0]\n",
            " [ 0  0  0  0 31]]\n",
            "Mean train accuracy : 100.00\n",
            "Mean test accuracy : 98.75\n",
            "Mean precision : 99.06\n",
            "Mean recall : 98.59\n",
            "Mean fscore : 98.78\n",
            "Confusion matrix : \n",
            "[[300   0   0   0   0]\n",
            " [  0  78   0   0   0]\n",
            " [  1   0 145   0   0]\n",
            " [  6   1   0 134   0]\n",
            " [  1   0   0   1 134]]\n"
          ],
          "name": "stdout"
        },
        {
          "output_type": "display_data",
          "data": {
            "image/png": "[encoded data removed]",
            "text/plain": [
              "<Figure size 432x288 with 2 Axes>"
            ]
          },
          "metadata": {
            "tags": [],
            "needs_background": "light"
          }
        }
      ]
    },
    {
      "cell_type": "code",
      "metadata": {
        "colab": {
          "base_uri": "https://localhost:8080/"
        },
        "id": "P7RL5e2Lx1sI",
        "outputId": "bdfce853-825a-4e5a-bf40-f00c5ec0d84f"
      },
      "source": [
        "from google.colab import drive\n",
        "drive.mount('/content/drive')"
      ],
      "execution_count": 1,
      "outputs": [
        {
          "output_type": "stream",
          "text": [
            "Mounted at /content/drive\n"
          ],
          "name": "stdout"
        }
      ]
    },
    {
      "cell_type": "code",
      "metadata": {
        "id": "mRbaDfqAyJSF"
      },
      "source": [
        ""
      ],
      "execution_count": null,
      "outputs": []
    }
  ]
}